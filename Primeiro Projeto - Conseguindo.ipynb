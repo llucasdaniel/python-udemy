{
 "cells": [
  {
   "cell_type": "code",
   "execution_count": null,
   "metadata": {},
   "outputs": [],
   "source": [
    "def main():\n",
    "    board= list(range(1,10))\n",
    "    jogador = verifica_jogador(False)\n",
    "   \n",
    "    num_escolhidos={}    \n",
    "    jogo = True\n",
    "    count = 0\n",
    "    \n",
    "    while(jogo):\n",
    "        numero = jogar_numero(False,jogador,board)\n",
    "        num_escolhidos.update({numero:jogador})\n",
    "        board[numero - 1] = jogador.upper()        \n",
    "        exibe_quadro(board)\n",
    "        vencedor = winner(board)\n",
    "        #print('Vencedor ', vencedor)\n",
    "        if(jogador == 'x'):\n",
    "            jogador = 'o'\n",
    "        else: \n",
    "            jogador = 'x'\n",
    "        \n",
    "        if(vencedor == 'X' or vencedor == 'O'):\n",
    "            print(\"CHEGOU AQUIIIII\")\n",
    "            board=list(range(1,10))\n",
    "            #jogador = verifica_jogador(False)\n",
    "            #vencedor=winner()      \n",
    "            print(\" O jogador {0} ganhou o jogo\",vencedor)\n",
    "            break\n",
    "           \n",
    "        dicta = {i:board.count(i) for i in board}\n",
    "        print(dicta)\n",
    "        print(dicta['X'])\n",
    "        if(dicta['X'] >=5 or dicta['O'] >=5):\n",
    "            print(\"FINALIZOU o board\")\n",
    "            break\n",
    "             \n",
    "        \n",
    "main()    "
   ]
  },
  {
   "cell_type": "code",
   "execution_count": 5,
   "metadata": {},
   "outputs": [],
   "source": [
    "\n",
    "def jogar_numero(jogada_valid,jogador,board):\n",
    "    \n",
    "    #jogada_valid = False\n",
    "    while(not jogada_valid):\n",
    "        string =  \"Por favor Jogador '{0}' , Insira qual posição deseja inserir de 1 a 9:\".format(jogador.upper())\n",
    "        num_jogado = input (string)\n",
    "        lista = range(1,10)\n",
    "        \n",
    "        if (num_jogado.isnumeric() and int(num_jogado) in lista \n",
    "            and (board[int(num_jogado) -1] !='X' and board[int(num_jogado) -1] != 'O')):\n",
    "            jogada_valid = True\n",
    "        else:\n",
    "            print('Numero inválido ou já escolhido')\n",
    "    return  int(num_jogado)   "
   ]
  },
  {
   "cell_type": "code",
   "execution_count": 4,
   "metadata": {},
   "outputs": [],
   "source": [
    "def verifica_jogador(jogador_valid):\n",
    "    #jogador_valid = False\n",
    "    while(not jogador_valid):\n",
    "            jogador_vez = input (\"Por favor, Qual jogador irá iniciar X ou O:\")\n",
    "            jogador_vez= jogador_vez.lower()\n",
    "            if(jogador_vez == 'x' or jogador_vez == 'o'):\n",
    "                jogador_valid = True\n",
    "            else:\n",
    "                print('Jogador Inválido')\n",
    "    return jogador_vez      "
   ]
  },
  {
   "cell_type": "code",
   "execution_count": 3,
   "metadata": {},
   "outputs": [],
   "source": [
    "def exibe_quadro(lista):\n",
    "    print(\"\\n\")\n",
    "    for index, item in enumerate(lista, start=1):\n",
    "        print(\"\\t\\t\", item, end=' ' if index % 3 else '\\n')\n",
    "    print(\"\\n\")    "
   ]
  },
  {
   "cell_type": "code",
   "execution_count": null,
   "metadata": {},
   "outputs": [],
   "source": []
  },
  {
   "cell_type": "code",
   "execution_count": 2,
   "metadata": {},
   "outputs": [],
   "source": [
    "def novamente():\n",
    "    retorno = False\n",
    "    novamente = False\n",
    "    print('NOVAMENTE')\n",
    "    while(not novamente):\n",
    "            novamente = input (\"Deseja jogar novamente S ou N:\")\n",
    "            novamente= novamente.lower()\n",
    "            if(novamente == 's' or novamente == 'n'):\n",
    "                retorno = novamente =='s'\n",
    "            else:\n",
    "                print('Resposta Inválida')\n",
    "    return retorno\n",
    "    \n"
   ]
  },
  {
   "cell_type": "code",
   "execution_count": 1,
   "metadata": {},
   "outputs": [],
   "source": [
    " def winner(board):\n",
    "        \n",
    "        for i in ['X','O']:\n",
    "            # horizontal\n",
    "            if board[0] == board[1] == board[2] == i: return i\n",
    "            if board[3] == board[4] == board[5] == i: return i\n",
    "            if board[6] == board[7] == board[8] == i: return i\n",
    "            # vertical\n",
    "            if board[0] == board[3] == board[6] == i: return i\n",
    "            if board[1] == board[4] == board[7] == i: return i\n",
    "            if board[2] == board[5] == board[8] == i: return i\n",
    "            # diagonal\n",
    "            if board[0] == board[4] == board[8] == i: return i\n",
    "            if board[6] == board[4] == board[2] == i: return i\n",
    "        return None"
   ]
  }
 ],
 "metadata": {
  "kernelspec": {
   "display_name": "Python 3",
   "language": "python",
   "name": "python3"
  },
  "language_info": {
   "codemirror_mode": {
    "name": "ipython",
    "version": 3
   },
   "file_extension": ".py",
   "mimetype": "text/x-python",
   "name": "python",
   "nbconvert_exporter": "python",
   "pygments_lexer": "ipython3",
   "version": "3.6.4"
  }
 },
 "nbformat": 4,
 "nbformat_minor": 2
}
