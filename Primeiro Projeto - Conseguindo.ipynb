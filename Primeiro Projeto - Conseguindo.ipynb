{
 "cells": [
  {
   "cell_type": "code",
   "execution_count": 29,
   "metadata": {},
   "outputs": [],
   "source": [
    "\n",
    "def jogar_numero(jogada_valid,jogador,board):\n",
    "    \n",
    "    #jogada_valid = False\n",
    "    while(not jogada_valid):\n",
    "        print('Jogador ', jogador.upper())\n",
    "        #string =  \"Por favor Jogador '{0}' , Insira qual posição deseja inserir de 1 a 9:\".format(jogador.upper())\n",
    "        num_jogado = input (\"Escolha um número\")\n",
    "        lista = range(1,10)\n",
    "        \n",
    "        if (num_jogado.isnumeric() and int(num_jogado) in lista \n",
    "            and (board[int(num_jogado) -1] !='X' and board[int(num_jogado) -1] != 'O')):\n",
    "            jogada_valid = True\n",
    "        else:\n",
    "            print('Numero inválido ou já escolhido')\n",
    "    return  int(num_jogado)   "
   ]
  },
  {
   "cell_type": "code",
   "execution_count": 30,
   "metadata": {},
   "outputs": [],
   "source": [
    "def verifica_jogador(jogador_valid):\n",
    "    #jogador_valid = False\n",
    "    while(not jogador_valid):\n",
    "            jogador_vez = input (\"Por favor, Qual jogador irá iniciar X ou O:\")\n",
    "            jogador_vez= jogador_vez.lower()\n",
    "            if(jogador_vez == 'x' or jogador_vez == 'o'):\n",
    "                jogador_valid = True\n",
    "            else:\n",
    "                print('Jogador Inválido')\n",
    "    return jogador_vez     "
   ]
  },
  {
   "cell_type": "code",
   "execution_count": 31,
   "metadata": {},
   "outputs": [
    {
     "name": "stdout",
     "output_type": "stream",
     "text": [
      "\n",
      "\n",
      "\t\t|    \t\t|    \t\t|   \n",
      "\t\t|    \t\t|    \t\t|   \n",
      "\t\t|    \t\t|    \t\t|   \n",
      "\n",
      "\n"
     ]
    }
   ],
   "source": [
    "from IPython.display import clear_output \n",
    "def exibe_quadro(lista):\n",
    "    clear_output()\n",
    "    print(\"\\n\")\n",
    "    for index, item in enumerate(lista, start=1):\n",
    "        print(\"\\t\\t|\",'  ' if type(item)==int else item, end=' 'if index % 3 else '\\n')\n",
    "    print(\"\\n\")    \n",
    "    \n",
    " "
   ]
  },
  {
   "cell_type": "code",
   "execution_count": null,
   "metadata": {},
   "outputs": [],
   "source": []
  },
  {
   "cell_type": "code",
   "execution_count": 32,
   "metadata": {},
   "outputs": [],
   "source": [
    "def novamente():\n",
    "    retorno = False\n",
    "    novamente = False\n",
    "    while(not novamente):\n",
    "            entrada = input (\"Deseja jogar novamente S ou N:\")\n",
    "            entrada= entrada.lower()\n",
    "            if(entrada == 's' or entrada == 'n'):\n",
    "                retorno = entrada =='s'\n",
    "                novamente = True\n",
    "            else:\n",
    "                print('Resposta Inválida')\n",
    "    return retorno\n",
    "    \n"
   ]
  },
  {
   "cell_type": "code",
   "execution_count": null,
   "metadata": {},
   "outputs": [],
   "source": [
    " def winner(board):\n",
    "        \n",
    "        for i in ['X','O']:\n",
    "            # horizontal\n",
    "            if board[0] == board[1] == board[2] == i: return i\n",
    "            if board[3] == board[4] == board[5] == i: return i\n",
    "            if board[6] == board[7] == board[8] == i: return i\n",
    "            # vertical\n",
    "            if board[0] == board[3] == board[6] == i: return i\n",
    "            if board[1] == board[4] == board[7] == i: return i\n",
    "            if board[2] == board[5] == board[8] == i: return i\n",
    "            # diagonal\n",
    "            if board[0] == board[4] == board[8] == i: return i\n",
    "            if board[6] == board[4] == board[2] == i: return i\n",
    "        return None"
   ]
  },
  {
   "cell_type": "code",
   "execution_count": null,
   "metadata": {},
   "outputs": [
    {
     "name": "stdout",
     "output_type": "stream",
     "text": [
      "\n",
      "\n",
      "\t\t| X \t\t| X \t\t|   \n",
      "\t\t| O \t\t| O \t\t| O\n",
      "\t\t| X \t\t|    \t\t|   \n",
      "\n",
      "\n",
      " O jogador {0} ganhou o jogo O\n"
     ]
    }
   ],
   "source": [
    "def main():\n",
    "    board= list(range(1,10))\n",
    "    jogador = verifica_jogador(False)\n",
    "   \n",
    "    num_escolhidos={}    \n",
    "    jogo = True\n",
    "    jogar_nov = True\n",
    "    while(jogar_nov):\n",
    "        while(jogo):\n",
    "            numero = jogar_numero(False,jogador,board)\n",
    "            num_escolhidos.update({numero:jogador})\n",
    "            board[numero - 1] = jogador.upper()        \n",
    "            exibe_quadro(board)\n",
    "            vencedor = winner(board)\n",
    "             \n",
    "            jogador = 'o' if jogador =='x' else 'x'\n",
    "\n",
    "            if(vencedor == 'X' or vencedor == 'O'):\n",
    "                board=list(range(1,10)) \n",
    "                s\n",
    "                print(\" O jogador {0} ganhou o jogo\",vencedor)\n",
    "                break\n",
    "\n",
    "            dicta = {i:board.count(i) for i in board}\n",
    "            try:\n",
    "                if(('X' in dicta and  dicta['X']>=5) or ('O' in dicta and dicta['O'] >=5)):\n",
    "                    print(\"Jogo Empatado\")\n",
    "                    break\n",
    "            except NameError:\n",
    "                pass  # val does not exist at all\n",
    "        \n",
    "        jogar_nov= novamente()\n",
    "             \n",
    "        \n",
    "main()    "
   ]
  },
  {
   "cell_type": "code",
   "execution_count": null,
   "metadata": {},
   "outputs": [],
   "source": []
  }
 ],
 "metadata": {
  "kernelspec": {
   "display_name": "Python 3",
   "language": "python",
   "name": "python3"
  },
  "language_info": {
   "codemirror_mode": {
    "name": "ipython",
    "version": 3
   },
   "file_extension": ".py",
   "mimetype": "text/x-python",
   "name": "python",
   "nbconvert_exporter": "python",
   "pygments_lexer": "ipython3",
   "version": "3.6.4"
  }
 },
 "nbformat": 4,
 "nbformat_minor": 2
}
