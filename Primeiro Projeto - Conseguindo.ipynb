{
 "cells": [
  {
   "cell_type": "code",
   "execution_count": null,
   "metadata": {},
   "outputs": [],
   "source": []
  },
  {
   "cell_type": "code",
   "execution_count": 33,
   "metadata": {},
   "outputs": [
    {
     "name": "stdout",
     "output_type": "stream",
     "text": [
      "Por favor, Qual jogador irá iniciar X ou O:x\n",
      "Por favor Jogador x , Insira qual posição deseja inserir de 1 a 9:6\n",
      "[1, 2, 3, 4, 5, 'x', 7, 8, 9]\n",
      "Por favor Jogador o , Insira qual posição deseja inserir de 1 a 9:5\n",
      "[1, 2, 3, 4, 'o', 'x', 7, 8, 9]\n",
      "Por favor Jogador x , Insira qual posição deseja inserir de 1 a 9:3\n"
     ]
    }
   ],
   "source": [
    "def main():\n",
    "    jogador = verifica_jogador(False)\n",
    "    numero = jogar_numero(False,jogador)\n",
    "    num_escolhidos={}\n",
    "    board= list(range(1,10))\n",
    "    jogo = True\n",
    "    count = 0\n",
    "    while(jogo):\n",
    "        num_escolhidos.update({numero:jogador})\n",
    "        board[numero - 1] = jogador\n",
    "        print(board)\n",
    "        \n",
    "        if(jogador == 'x'):\n",
    "            jogador = 'o'\n",
    "        else: \n",
    "            jogador = 'x'\n",
    "        \n",
    "        numero = jogar_numero(False,jogador)\n",
    "        \n",
    "        count+= 1\n",
    "        if(count == 2):\n",
    "            jogo=False\n",
    "        \n",
    "main()    "
   ]
  },
  {
   "cell_type": "code",
   "execution_count": 30,
   "metadata": {},
   "outputs": [],
   "source": [
    "\n",
    "def jogar_numero(jogada_valid,jogador):\n",
    "    \n",
    "    #jogada_valid = False\n",
    "    while(not jogada_valid):\n",
    "        string =  \"Por favor Jogador {0} , Insira qual posição deseja inserir de 1 a 9:\".format(jogador)\n",
    "        num_jogado = input (string)\n",
    "        lista = range(1,10)\n",
    "        if (num_jogado.isnumeric() and int(num_jogado) in lista):\n",
    "            jogada_valid = True\n",
    "        else:\n",
    "            print('Numero inválido ou já escolhido')\n",
    "    return  int(num_jogado)   "
   ]
  },
  {
   "cell_type": "code",
   "execution_count": 26,
   "metadata": {},
   "outputs": [],
   "source": [
    "def verifica_jogador(jogador_valid):\n",
    "    #jogador_valid = False\n",
    "    while(not jogador_valid):\n",
    "            jogador_vez = input (\"Por favor, Qual jogador irá iniciar X ou O:\")\n",
    "            jogador_vez= jogador_vez.lower()\n",
    "            if(jogador_vez == 'x' or jogador_vez == 'o'):\n",
    "                jogador_valid = True\n",
    "            else:\n",
    "                print('Jogador Inválido')\n",
    "    return jogador_vez      "
   ]
  }
 ],
 "metadata": {
  "kernelspec": {
   "display_name": "Python 3",
   "language": "python",
   "name": "python3"
  },
  "language_info": {
   "codemirror_mode": {
    "name": "ipython",
    "version": 3
   },
   "file_extension": ".py",
   "mimetype": "text/x-python",
   "name": "python",
   "nbconvert_exporter": "python",
   "pygments_lexer": "ipython3",
   "version": "3.6.4"
  }
 },
 "nbformat": 4,
 "nbformat_minor": 2
}
